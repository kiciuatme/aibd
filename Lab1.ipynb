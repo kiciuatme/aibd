{
 "cells": [
  {
   "cell_type": "markdown",
   "metadata": {},
   "source": [
    "**Zajęcia wprowadzające**\n",
    "Wstęp do środowiska Jupyter\n",
    "\n",
    "Krzysztof Słomski, 2021-10-11"
   ]
  },
  {
   "cell_type": "markdown",
   "metadata": {},
   "source": [
    "* wyświetlenie wykersu wskazanych funkcji"
   ]
  },
  {
   "cell_type": "code",
   "execution_count": 17,
   "metadata": {},
   "outputs": [
    {
     "data": {
      "text/plain": [
       "<matplotlib.legend.Legend at 0x7fdff0ca20a0>"
      ]
     },
     "execution_count": 17,
     "metadata": {},
     "output_type": "execute_result"
    },
    {
     "data": {
      "image/png": "[encoded data removed]",
      "text/plain": [
       "<Figure size 360x360 with 1 Axes>"
      ]
     },
     "metadata": {
      "needs_background": "light"
     },
     "output_type": "display_data"
    }
   ],
   "source": [
    "import numpy\n",
    "import matplotlib.pyplot as plt\n",
    "\n",
    "def f(x):\n",
    "    return numpy.power(x, 2) + 5\n",
    "    \n",
    "doms = [\n",
    "    numpy.linspace(-6, 6, num=50, endpoint=True),\n",
    "    numpy.linspace(-1, 1, num=50, endpoint=True),\n",
    "    numpy.linspace(0, 5, num=50, endpoint=True),\n",
    "]\n",
    "\n",
    "fig, ax = plt.subplots(1, 1, figsize=(5, 5))\n",
    "\n",
    "for axix, dom in enumerate(doms):\n",
    "    ax.plot(dom, f(dom), label=\"wykres {}\".format(axix))\n",
    "ax.set_title(\"Wykres\")\n",
    "ax.set_xlabel(\"Os odciętych\")\n",
    "ax.set_ylabel(\"Os rzednych\")\n",
    "ax.legend()"
   ]
  },
  {
   "cell_type": "markdown",
   "metadata": {},
   "source": [
    "* wykorzystanie klasy pandas.dataframe:"
   ]
  },
  {
   "cell_type": "code",
   "execution_count": 15,
   "metadata": {},
   "outputs": [
    {
     "name": "stdout",
     "output_type": "stream",
     "text": [
      "INFO\n",
      "\n",
      "<class 'pandas.core.frame.DataFrame'>\n",
      "RangeIndex: 5 entries, 0 to 4\n",
      "Data columns (total 4 columns):\n",
      " #   Column   Non-Null Count  Dtype \n",
      "---  ------   --------------  ----- \n",
      " 0   name     5 non-null      object\n",
      " 1   surmane  5 non-null      object\n",
      " 2   age      5 non-null      int64 \n",
      " 3   sex      5 non-null      object\n",
      "dtypes: int64(1), object(3)\n",
      "memory usage: 164.0+ bytes\n",
      "DESC\n",
      "\n",
      "             age\n",
      "count   5.000000\n",
      "mean   36.400000\n",
      "std    14.501724\n",
      "min    15.000000\n",
      "25%    30.000000\n",
      "50%    39.000000\n",
      "75%    46.000000\n",
      "max    52.000000\n",
      "HEAD\n",
      "\n"
     ]
    },
    {
     "data": {
      "text/html": [
       "<div>\n",
       "<style scoped>\n",
       "    .dataframe tbody tr th:only-of-type {\n",
       "        vertical-align: middle;\n",
       "    }\n",
       "\n",
       "    .dataframe tbody tr th {\n",
       "        vertical-align: top;\n",
       "    }\n",
       "\n",
       "    .dataframe thead th {\n",
       "        text-align: right;\n",
       "    }\n",
       "</style>\n",
       "<table border=\"1\" class=\"dataframe\">\n",
       "  <thead>\n",
       "    <tr style=\"text-align: right;\">\n",
       "      <th></th>\n",
       "      <th>name</th>\n",
       "      <th>surmane</th>\n",
       "      <th>age</th>\n",
       "      <th>sex</th>\n",
       "    </tr>\n",
       "  </thead>\n",
       "  <tbody>\n",
       "    <tr>\n",
       "      <th>0</th>\n",
       "      <td>Jan</td>\n",
       "      <td>Nowak</td>\n",
       "      <td>46</td>\n",
       "      <td>M</td>\n",
       "    </tr>\n",
       "    <tr>\n",
       "      <th>1</th>\n",
       "      <td>Maria</td>\n",
       "      <td>Byk</td>\n",
       "      <td>52</td>\n",
       "      <td>F</td>\n",
       "    </tr>\n",
       "    <tr>\n",
       "      <th>2</th>\n",
       "      <td>Seba</td>\n",
       "      <td>Mak</td>\n",
       "      <td>39</td>\n",
       "      <td>M</td>\n",
       "    </tr>\n",
       "  </tbody>\n",
       "</table>\n",
       "</div>"
      ],
      "text/plain": [
       "    name surmane  age sex\n",
       "0    Jan   Nowak   46   M\n",
       "1  Maria     Byk   52   F\n",
       "2   Seba     Mak   39   M"
      ]
     },
     "execution_count": 15,
     "metadata": {},
     "output_type": "execute_result"
    }
   ],
   "source": [
    "import pandas\n",
    "\n",
    "df = pandas.DataFrame(data={\n",
    "    \"name\": [\"Jan\", \"Maria\", \"Seba\", \"Karina\", \"Tomasz\"],\n",
    "    \"surmane\": [\"Nowak\", \"Byk\", \"Mak\", \"Gawel\", \"Lubicz\"],\n",
    "    \"age\": [46, 52, 39, 30, 15],\n",
    "    \"sex\": [\"M\", \"F\", \"M\", \"F\", \"M\"],\n",
    "})\n",
    "\n",
    "print(\"INFO\\n\") \n",
    "df.info()\n",
    "print(\"DESC\\n\")\n",
    "print(df.describe())\n",
    "print(\"HEAD\\n\")\n",
    "df.head(3)"
   ]
  }
 ],
 "metadata": {
  "kernelspec": {
   "display_name": "Python 3",
   "language": "python",
   "name": "python3"
  },
  "language_info": {
   "codemirror_mode": {
    "name": "ipython",
    "version": 3
   },
   "file_extension": ".py",
   "mimetype": "text/x-python",
   "name": "python",
   "nbconvert_exporter": "python",
   "pygments_lexer": "ipython3",
   "version": "3.7.4"
  }
 },
 "nbformat": 4,
 "nbformat_minor": 5
}
